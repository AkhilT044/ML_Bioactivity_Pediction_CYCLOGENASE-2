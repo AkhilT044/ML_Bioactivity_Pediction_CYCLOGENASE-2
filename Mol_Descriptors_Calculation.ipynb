{
 "cells": [
  {
   "cell_type": "markdown",
   "id": "ad34a713",
   "metadata": {},
   "source": [
    "IMPORTING LIBRARIES FOR MOLECULAR DESCRIPTORS "
   ]
  },
  {
   "cell_type": "code",
   "execution_count": 7,
   "id": "525cbcd1",
   "metadata": {},
   "outputs": [],
   "source": [
    "import pandas as pd\n",
    "from rdkit import Chem\n",
    "from rdkit.Chem import Descriptors"
   ]
  },
  {
   "cell_type": "markdown",
   "id": "87c0f638",
   "metadata": {},
   "source": [
    "MOLECULAR DESCRIPTORS CALCULATION"
   ]
  },
  {
   "cell_type": "code",
   "execution_count": 8,
   "id": "aa8261c2",
   "metadata": {},
   "outputs": [],
   "source": [
    "def calc_descriptors(smiles):\n",
    "    mol = Chem.MolFromSmiles(smiles) if isinstance(smiles, str) else None\n",
    "    if mol :\n",
    "        return {\n",
    "            Descriptors.MolWt(mol),\n",
    "            Descriptors.NumRotatableBonds(mol),\n",
    "            Descriptors.NumHAcceptors(mol),\n",
    "            Descriptors.NumHDonors(mol),\n",
    "            Descriptors.TPSA(mol),\n",
    "            Descriptors.MolLogP(mol),\n",
    "        }\n",
    "        \n",
    "    return [None]*6\n",
    "    "
   ]
  },
  {
   "cell_type": "markdown",
   "id": "9b55e5e9",
   "metadata": {},
   "source": [
    "READING PRE-PROCESSED DATA, WHICH IS SAVED IN PREVIOUS PROCESSING STEPS & CALCULATING DESCRIPTORS"
   ]
  },
  {
   "cell_type": "code",
   "execution_count": 11,
   "id": "834abb7c",
   "metadata": {},
   "outputs": [],
   "source": [
    "df = pd.read_csv('ChEMBL221_14062025_preprocessed.csv').dropna()\n",
    "\n",
    "descriptors_cols = [\n",
    "    'MolWt',\n",
    "    'NumRotatableBonds',\n",
    "    'NumHAcceptors',\n",
    "    'NumHDonors',\n",
    "    'TPSA',\n",
    "    'MolLogP'\n",
    "]"
   ]
  },
  {
   "cell_type": "markdown",
   "id": "bc18fd28",
   "metadata": {},
   "source": [
    "CALCULATING MOLECULAR DESCRIPTORS FROM SMILES & ADDING THEM AS NEW COLUMN TO THE DATASET "
   ]
  },
  {
   "cell_type": "code",
   "execution_count": 12,
   "id": "514bb4b0",
   "metadata": {},
   "outputs": [
    {
     "data": {
      "text/html": [
       "<div>\n",
       "<style scoped>\n",
       "    .dataframe tbody tr th:only-of-type {\n",
       "        vertical-align: middle;\n",
       "    }\n",
       "\n",
       "    .dataframe tbody tr th {\n",
       "        vertical-align: top;\n",
       "    }\n",
       "\n",
       "    .dataframe thead th {\n",
       "        text-align: right;\n",
       "    }\n",
       "</style>\n",
       "<table border=\"1\" class=\"dataframe\">\n",
       "  <thead>\n",
       "    <tr style=\"text-align: right;\">\n",
       "      <th></th>\n",
       "      <th>molecule_chembl_id</th>\n",
       "      <th>smiles</th>\n",
       "      <th>standard_value</th>\n",
       "      <th>bioactivity_class</th>\n",
       "      <th>descriptors</th>\n",
       "      <th>MolWt</th>\n",
       "      <th>NumRotatableBonds</th>\n",
       "      <th>NumHAcceptors</th>\n",
       "      <th>NumHDonors</th>\n",
       "      <th>TPSA</th>\n",
       "      <th>MolLogP</th>\n",
       "    </tr>\n",
       "  </thead>\n",
       "  <tbody>\n",
       "    <tr>\n",
       "      <th>0</th>\n",
       "      <td>CHEMBL420628</td>\n",
       "      <td>Cc1ccc(-c2ncc(Cl)cc2-c2ccc(S(N)(=O)=O)cc2)cn1</td>\n",
       "      <td>800.0</td>\n",
       "      <td>active</td>\n",
       "      <td>{1, 3, 4, 3.4198200000000014, 359.838000000000...</td>\n",
       "      <td>1.000</td>\n",
       "      <td>3.0</td>\n",
       "      <td>4.0000</td>\n",
       "      <td>3.41982</td>\n",
       "      <td>359.838</td>\n",
       "      <td>85.9400</td>\n",
       "    </tr>\n",
       "    <tr>\n",
       "      <th>1</th>\n",
       "      <td>CHEMBL323732</td>\n",
       "      <td>CS(=O)(=O)c1ccc(C2=C(c3ccc(C(F)(F)F)c(F)c3)CCC...</td>\n",
       "      <td>100000.0</td>\n",
       "      <td>inactive</td>\n",
       "      <td>{384.3940000000001, 0, 2, 3, 34.14, 5.34270000...</td>\n",
       "      <td>384.394</td>\n",
       "      <td>0.0</td>\n",
       "      <td>2.0000</td>\n",
       "      <td>3.00000</td>\n",
       "      <td>34.140</td>\n",
       "      <td>5.3427</td>\n",
       "    </tr>\n",
       "    <tr>\n",
       "      <th>2</th>\n",
       "      <td>CHEMBL139</td>\n",
       "      <td>O=C(O)Cc1ccccc1Nc1c(Cl)cccc1Cl</td>\n",
       "      <td>150.0</td>\n",
       "      <td>active</td>\n",
       "      <td>{2, 4, 4.364100000000001, 296.153, 49.33}</td>\n",
       "      <td>2.000</td>\n",
       "      <td>4.0</td>\n",
       "      <td>4.3641</td>\n",
       "      <td>296.15300</td>\n",
       "      <td>49.330</td>\n",
       "      <td>NaN</td>\n",
       "    </tr>\n",
       "    <tr>\n",
       "      <th>3</th>\n",
       "      <td>CHEMBL355781</td>\n",
       "      <td>CS(=O)(=O)c1ccc(-c2csc(CC(=O)O)c2-c2ccc(F)cc2)cc1</td>\n",
       "      <td>50000.0</td>\n",
       "      <td>inactive</td>\n",
       "      <td>{1, 4, 5, 390.45700000000005, 71.44, 4.2518000...</td>\n",
       "      <td>1.000</td>\n",
       "      <td>4.0</td>\n",
       "      <td>5.0000</td>\n",
       "      <td>390.45700</td>\n",
       "      <td>71.440</td>\n",
       "      <td>4.2518</td>\n",
       "    </tr>\n",
       "    <tr>\n",
       "      <th>4</th>\n",
       "      <td>CHEMBL406881</td>\n",
       "      <td>Nc1ccccc1NC(=O)c1ccccc1C(F)(F)F</td>\n",
       "      <td>100000.0</td>\n",
       "      <td>inactive</td>\n",
       "      <td>{280.24899999999997, 2, 3.539900000000001, 55.12}</td>\n",
       "      <td>280.249</td>\n",
       "      <td>2.0</td>\n",
       "      <td>3.5399</td>\n",
       "      <td>55.12000</td>\n",
       "      <td>NaN</td>\n",
       "      <td>NaN</td>\n",
       "    </tr>\n",
       "  </tbody>\n",
       "</table>\n",
       "</div>"
      ],
      "text/plain": [
       "  molecule_chembl_id                                             smiles  \\\n",
       "0       CHEMBL420628      Cc1ccc(-c2ncc(Cl)cc2-c2ccc(S(N)(=O)=O)cc2)cn1   \n",
       "1       CHEMBL323732  CS(=O)(=O)c1ccc(C2=C(c3ccc(C(F)(F)F)c(F)c3)CCC...   \n",
       "2          CHEMBL139                     O=C(O)Cc1ccccc1Nc1c(Cl)cccc1Cl   \n",
       "3       CHEMBL355781  CS(=O)(=O)c1ccc(-c2csc(CC(=O)O)c2-c2ccc(F)cc2)cc1   \n",
       "4       CHEMBL406881                    Nc1ccccc1NC(=O)c1ccccc1C(F)(F)F   \n",
       "\n",
       "   standard_value bioactivity_class  \\\n",
       "0           800.0            active   \n",
       "1        100000.0          inactive   \n",
       "2           150.0            active   \n",
       "3         50000.0          inactive   \n",
       "4        100000.0          inactive   \n",
       "\n",
       "                                         descriptors    MolWt  \\\n",
       "0  {1, 3, 4, 3.4198200000000014, 359.838000000000...    1.000   \n",
       "1  {384.3940000000001, 0, 2, 3, 34.14, 5.34270000...  384.394   \n",
       "2          {2, 4, 4.364100000000001, 296.153, 49.33}    2.000   \n",
       "3  {1, 4, 5, 390.45700000000005, 71.44, 4.2518000...    1.000   \n",
       "4  {280.24899999999997, 2, 3.539900000000001, 55.12}  280.249   \n",
       "\n",
       "   NumRotatableBonds  NumHAcceptors  NumHDonors     TPSA  MolLogP  \n",
       "0                3.0         4.0000     3.41982  359.838  85.9400  \n",
       "1                0.0         2.0000     3.00000   34.140   5.3427  \n",
       "2                4.0         4.3641   296.15300   49.330      NaN  \n",
       "3                4.0         5.0000   390.45700   71.440   4.2518  \n",
       "4                2.0         3.5399    55.12000      NaN      NaN  "
      ]
     },
     "execution_count": 12,
     "metadata": {},
     "output_type": "execute_result"
    }
   ],
   "source": [
    "df['descriptors'] = df['smiles'].apply(calc_descriptors)\n",
    "df[descriptors_cols] = pd.DataFrame(df['descriptors'].tolist(), index=df.index)\n",
    "\n",
    "\n",
    "df.head()"
   ]
  },
  {
   "cell_type": "markdown",
   "id": "d8f55fce",
   "metadata": {},
   "source": [
    "SAVING THE FILE OF BIOACTIVITY DATA WITH DESCRIPTORS "
   ]
  },
  {
   "cell_type": "code",
   "execution_count": 13,
   "id": "7f5795d4",
   "metadata": {},
   "outputs": [],
   "source": [
    "df.dropna().to_csv('excel_bioactivity_data_with_descriptors2.csv', index=False)"
   ]
  },
  {
   "cell_type": "code",
   "execution_count": 14,
   "id": "48f5f12a",
   "metadata": {},
   "outputs": [
    {
     "name": "stdout",
     "output_type": "stream",
     "text": [
      "❌ Molecules with descriptor failure: 1026\n"
     ]
    }
   ],
   "source": [
    "# Compute descriptors\n",
    "descriptor_cols = ['MolWt', 'NumRotatableBonds', 'NumHAcceptors', 'NumHDonors', 'TPSA', 'MolLogP']\n",
    "df['descriptors'] = df['smiles'].apply(calc_descriptors)\n",
    "df[descriptor_cols] = pd.DataFrame(df['descriptors'].tolist(), index=df.index)\n",
    "\n",
    "# Find rows with any missing descriptor\n",
    "invalid_rows = df[df[descriptor_cols].isna().any(axis=1)]\n",
    "\n",
    "\n",
    "print(\"❌ Molecules with descriptor failure:\", len(invalid_rows))\n",
    "\n",
    "\n",
    "invalid_rows.to_csv('failed_descriptor_molecules.csv', index=False)"
   ]
  }
 ],
 "metadata": {
  "kernelspec": {
   "display_name": ".venv",
   "language": "python",
   "name": "python3"
  },
  "language_info": {
   "codemirror_mode": {
    "name": "ipython",
    "version": 3
   },
   "file_extension": ".py",
   "mimetype": "text/x-python",
   "name": "python",
   "nbconvert_exporter": "python",
   "pygments_lexer": "ipython3",
   "version": "3.13.2"
  }
 },
 "nbformat": 4,
 "nbformat_minor": 5
}
